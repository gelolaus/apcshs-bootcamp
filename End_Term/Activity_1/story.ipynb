{
 "cells": [
  {
   "cell_type": "code",
   "execution_count": null,
   "metadata": {},
   "outputs": [],
   "source": [
    "# Created by Angelo John Benedict Laus\n",
    "# For Asia Pacific College - SHS SoCIT Bootcamp A.Y. 2022-2023\n",
    "\n",
    "# Form\n",
    "print(\"Please answer the following questions.\")\n",
    "name = input(\"What is your name? \")\n",
    "age = input(\"How old are you? \")\n",
    "address = input(\"Where do you live? \")\n",
    "color = input(\"What is your favorite color? \")\n",
    "food = input(\"What is your favorite food? \")\n",
    "animal = input(\"What is your favorite animal? \")\n",
    "course = input(\"What course are you taking? \")\n",
    "year = input(\"What year are you in? \")\n",
    "subject = input(\"What is your favorite subject? \")\n",
    "teacher = input(\"Who is your favorite teacher? \")\n",
    "\n",
    "# Story\n",
    "print(\"\\n\\nResult:\")\n",
    "print(\"Once upon a time, there was a person named \" + name + \".\\nHe was \" + age + \" years old and lived in \" + address + \".\\nHis favorite color was \" + color + \" and his favorite food was \" + food + \".\\nHe also liked \" + animal + \"s and was taking \" + course + \" in \" + year + \" year.\\nHis favorite subject was \" + subject + \" and his favorite teacher was \" + teacher + \".\\nOne day, he was walking down the street when he saw a \" + animal + \".\\nHe was so happy that he decided to take it home.\\nHe named it \" + name + \" Jr. and they lived happily ever after.\\nThe end.\")"
   ]
  }
 ],
 "metadata": {
  "kernelspec": {
   "display_name": "Python 3 (ipykernel)",
   "language": "python",
   "name": "python3"
  },
  "language_info": {
   "codemirror_mode": {
    "name": "ipython",
    "version": 3
   },
   "file_extension": ".py",
   "mimetype": "text/x-python",
   "name": "python",
   "nbconvert_exporter": "python",
   "pygments_lexer": "ipython3",
   "version": "3.11.2"
  }
 },
 "nbformat": 4,
 "nbformat_minor": 2
}
